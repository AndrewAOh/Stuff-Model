{
  "nbformat": 4,
  "nbformat_minor": 0,
  "metadata": {
    "colab": {
      "provenance": [],
      "gpuType": "A100"
    },
    "kernelspec": {
      "name": "python3",
      "display_name": "Python 3"
    },
    "language_info": {
      "name": "python"
    },
    "accelerator": "GPU"
  },
  "cells": [
    {
      "cell_type": "code",
      "execution_count": null,
      "metadata": {
        "colab": {
          "base_uri": "https://localhost:8080/"
        },
        "id": "BL9NtaFrxFBc",
        "outputId": "66725b4f-ce3c-4848-b2da-9c31378141d0"
      },
      "outputs": [
        {
          "output_type": "stream",
          "name": "stdout",
          "text": [
            "Mounted at /content/drive\n"
          ]
        }
      ],
      "source": [
        "from google.colab import drive\n",
        "drive.mount('/content/drive')"
      ]
    },
    {
      "cell_type": "markdown",
      "source": [
        "# Read in the Data"
      ],
      "metadata": {
        "id": "lCzuzI33ySwn"
      }
    },
    {
      "cell_type": "code",
      "source": [
        "import pandas as pd\n",
        "import glob\n",
        "import os\n",
        "import numpy as np\n",
        "\n",
        "# Full NCAA Dataset - 48 sec\n",
        "df = pd.read_csv(\"/content/drive/Shareddrives/USC Baseball/Datasets/Full_22-24_NCAA_Dataset.csv\")"
      ],
      "metadata": {
        "colab": {
          "base_uri": "https://localhost:8080/"
        },
        "id": "6J456Uw3xg-U",
        "outputId": "ca821226-ea6e-4c51-c340-9a0653ad80a3"
      },
      "execution_count": null,
      "outputs": [
        {
          "output_type": "stream",
          "name": "stderr",
          "text": [
            "<ipython-input-2-fd0225edde3b>:7: DtypeWarning: Columns (27,92,93,94) have mixed types. Specify dtype option on import or set low_memory=False.\n",
            "  df = pd.read_csv(\"/content/drive/Shareddrives/USC Baseball/Datasets/Full_22-24_NCAA_Dataset.csv\")\n"
          ]
        }
      ]
    },
    {
      "cell_type": "code",
      "source": [
        "college_extra_info = pd.read_csv(\"/content/drive/Shareddrives/USC Baseball/Datasets/college_stats_2024_extra_info.csv\")"
      ],
      "metadata": {
        "id": "E423HJAem-DR"
      },
      "execution_count": null,
      "outputs": []
    },
    {
      "cell_type": "markdown",
      "source": [
        "# Clean up the data + filter data + create target column\n"
      ],
      "metadata": {
        "id": "oJdoL6CUyVTY"
      }
    },
    {
      "cell_type": "code",
      "execution_count": null,
      "metadata": {
        "id": "4L08ZxvEU_17"
      },
      "outputs": [],
      "source": [
        "#This will ignore all DeprecationWarning warnings in your code.\n",
        "import warnings\n",
        "warnings.filterwarnings(\"ignore\", category=DeprecationWarning)"
      ]
    },
    {
      "cell_type": "code",
      "execution_count": null,
      "metadata": {
        "id": "pkf9j2mhXYfl"
      },
      "outputs": [],
      "source": [
        "cleandf = df[df['TaggedPitchType'].str.contains(\"Undefined|Other|,\") == False]\n",
        "cleanD1 = cleandf[cleandf['Level'] == \"D1\"]"
      ]
    },
    {
      "cell_type": "code",
      "source": [
        "cleanConf = cleanD1[cleanD1['League'].isin([\"SEC\", \"BIG12\", \"BIG10\", \"ACC\", \"PAC12\", \"CUSA\", \"SBELT\", \"AMER\"])]"
      ],
      "metadata": {
        "id": "oVJWhexDE2xa"
      },
      "execution_count": null,
      "outputs": []
    },
    {
      "cell_type": "code",
      "source": [
        "# Recodes Pitch Handedness to binary variable\n",
        "\n",
        "conditions = [\n",
        "    (cleanConf['PitcherThrows'] == 'Right'),  # RHP\n",
        "    (cleanConf['PitcherThrows'] == 'Left')  # LHP\n",
        "]\n",
        "\n",
        "# creates a list of values to assign for pitch handedness where RHP = 1 & LHP = 0\n",
        "values = [0, 1]\n",
        "# creates new column determining pitch hand\n",
        "cleanConf['PitcherHand'] = np.select(conditions, values)"
      ],
      "metadata": {
        "colab": {
          "base_uri": "https://localhost:8080/"
        },
        "id": "mJoGK06Sze-t",
        "outputId": "1a9d95e9-63db-4a61-9fb0-924049623a82"
      },
      "execution_count": null,
      "outputs": [
        {
          "output_type": "stream",
          "name": "stderr",
          "text": [
            "<ipython-input-7-783810b04da9>:11: SettingWithCopyWarning: \n",
            "A value is trying to be set on a copy of a slice from a DataFrame.\n",
            "Try using .loc[row_indexer,col_indexer] = value instead\n",
            "\n",
            "See the caveats in the documentation: https://pandas.pydata.org/pandas-docs/stable/user_guide/indexing.html#returning-a-view-versus-a-copy\n",
            "  cleanConf['PitcherHand'] = np.select(conditions, values)\n"
          ]
        }
      ]
    },
    {
      "cell_type": "code",
      "source": [
        "cleanConf['PitcherHand'].value_counts()"
      ],
      "metadata": {
        "colab": {
          "base_uri": "https://localhost:8080/",
          "height": 178
        },
        "id": "CHYhabSM2ybE",
        "outputId": "a62bbcd1-f63c-4a79-c344-135cd1a170f2"
      },
      "execution_count": null,
      "outputs": [
        {
          "output_type": "execute_result",
          "data": {
            "text/plain": [
              "PitcherHand\n",
              "0    1290893\n",
              "1     500407\n",
              "Name: count, dtype: int64"
            ],
            "text/html": [
              "<div>\n",
              "<style scoped>\n",
              "    .dataframe tbody tr th:only-of-type {\n",
              "        vertical-align: middle;\n",
              "    }\n",
              "\n",
              "    .dataframe tbody tr th {\n",
              "        vertical-align: top;\n",
              "    }\n",
              "\n",
              "    .dataframe thead th {\n",
              "        text-align: right;\n",
              "    }\n",
              "</style>\n",
              "<table border=\"1\" class=\"dataframe\">\n",
              "  <thead>\n",
              "    <tr style=\"text-align: right;\">\n",
              "      <th></th>\n",
              "      <th>count</th>\n",
              "    </tr>\n",
              "    <tr>\n",
              "      <th>PitcherHand</th>\n",
              "      <th></th>\n",
              "    </tr>\n",
              "  </thead>\n",
              "  <tbody>\n",
              "    <tr>\n",
              "      <th>0</th>\n",
              "      <td>1290893</td>\n",
              "    </tr>\n",
              "    <tr>\n",
              "      <th>1</th>\n",
              "      <td>500407</td>\n",
              "    </tr>\n",
              "  </tbody>\n",
              "</table>\n",
              "</div><br><label><b>dtype:</b> int64</label>"
            ]
          },
          "metadata": {},
          "execution_count": 8
        }
      ]
    },
    {
      "cell_type": "code",
      "source": [
        "cleanConf.shape[0]"
      ],
      "metadata": {
        "colab": {
          "base_uri": "https://localhost:8080/"
        },
        "id": "bmAq6ZEnmflb",
        "outputId": "cabb4beb-f653-4b71-ef28-2a10cce50001"
      },
      "execution_count": null,
      "outputs": [
        {
          "output_type": "execute_result",
          "data": {
            "text/plain": [
              "1791300"
            ]
          },
          "metadata": {},
          "execution_count": 9
        }
      ]
    },
    {
      "cell_type": "code",
      "source": [
        "cleanConf = cleanConf[~((cleanConf['PitchCall'].isin([\"InPlay\", \"FoulBall\", \"FoulBallNotPlayable\"])) & (pd.isna(cleanConf['Angle'])))]"
      ],
      "metadata": {
        "id": "QO_zqcnOgpJF"
      },
      "execution_count": null,
      "outputs": []
    },
    {
      "cell_type": "code",
      "source": [
        "cleanConf.shape[0]"
      ],
      "metadata": {
        "colab": {
          "base_uri": "https://localhost:8080/"
        },
        "id": "-SC5DP_Fmla1",
        "outputId": "0e635dac-ad0d-421e-939b-029d2fbfde15"
      },
      "execution_count": null,
      "outputs": [
        {
          "output_type": "execute_result",
          "data": {
            "text/plain": [
              "1769684"
            ]
          },
          "metadata": {},
          "execution_count": 11
        }
      ]
    },
    {
      "cell_type": "code",
      "source": [
        "cleanConf.shape[0]"
      ],
      "metadata": {
        "colab": {
          "base_uri": "https://localhost:8080/"
        },
        "id": "FVuh8XTCi06U",
        "outputId": "d848ed97-33e4-4f45-80a1-9779c8f81c49"
      },
      "execution_count": null,
      "outputs": [
        {
          "output_type": "execute_result",
          "data": {
            "text/plain": [
              "1712724"
            ]
          },
          "metadata": {},
          "execution_count": 35
        }
      ]
    },
    {
      "cell_type": "code",
      "source": [
        "conditions = [\n",
        "    (cleanConf['PitchCall'] == 'StrikeSwinging'),  # Whiff\n",
        "    (cleanConf['PitchCall'] == 'StrikeCalled'),  # Called Strike\n",
        "    (cleanConf['Angle'] >= 38), # Pop up launch angle\n",
        "    (cleanConf['Angle'] <= -5) # Ground ball launch angle\n",
        "]\n",
        "\n",
        "values = [1, 1, 1, 1]\n",
        "cleanConf['isStuffResult'] = np.select(conditions, values, default = 0)"
      ],
      "metadata": {
        "id": "zExjAVVO6Lvj"
      },
      "execution_count": null,
      "outputs": []
    },
    {
      "cell_type": "code",
      "source": [
        "cleanConf['isStuffResult'].value_counts()"
      ],
      "metadata": {
        "colab": {
          "base_uri": "https://localhost:8080/",
          "height": 178
        },
        "id": "nbx8ftaD84QK",
        "outputId": "39558bf7-7890-4d25-a527-ab5df0fb7efb"
      },
      "execution_count": null,
      "outputs": [
        {
          "output_type": "execute_result",
          "data": {
            "text/plain": [
              "isStuffResult\n",
              "0    984068\n",
              "1    728656\n",
              "Name: count, dtype: int64"
            ],
            "text/html": [
              "<div>\n",
              "<style scoped>\n",
              "    .dataframe tbody tr th:only-of-type {\n",
              "        vertical-align: middle;\n",
              "    }\n",
              "\n",
              "    .dataframe tbody tr th {\n",
              "        vertical-align: top;\n",
              "    }\n",
              "\n",
              "    .dataframe thead th {\n",
              "        text-align: right;\n",
              "    }\n",
              "</style>\n",
              "<table border=\"1\" class=\"dataframe\">\n",
              "  <thead>\n",
              "    <tr style=\"text-align: right;\">\n",
              "      <th></th>\n",
              "      <th>count</th>\n",
              "    </tr>\n",
              "    <tr>\n",
              "      <th>isStuffResult</th>\n",
              "      <th></th>\n",
              "    </tr>\n",
              "  </thead>\n",
              "  <tbody>\n",
              "    <tr>\n",
              "      <th>0</th>\n",
              "      <td>984068</td>\n",
              "    </tr>\n",
              "    <tr>\n",
              "      <th>1</th>\n",
              "      <td>728656</td>\n",
              "    </tr>\n",
              "  </tbody>\n",
              "</table>\n",
              "</div><br><label><b>dtype:</b> int64</label>"
            ]
          },
          "metadata": {},
          "execution_count": 37
        }
      ]
    },
    {
      "cell_type": "code",
      "source": [
        "# Function to convert from \"Lastname, Firstname\" to \"Firstname Lastname\"\n",
        "\n",
        "def convert_name(name):\n",
        "    parts = name.split(',')\n",
        "    if len(parts) == 2:\n",
        "        return parts[1].strip() + ' ' + parts[0].strip()\n",
        "    else:\n",
        "        return name"
      ],
      "metadata": {
        "id": "W2gXSL4_nVly"
      },
      "execution_count": null,
      "outputs": []
    },
    {
      "cell_type": "code",
      "source": [
        "# Function to read in player height from \"college_extra_info\"\n",
        "\n",
        "def get_height(name):\n",
        "    try:\n",
        "        # Look up the player by name and get the corresponding height\n",
        "        height = college_extra_info.loc[college_extra_info['Player'] == name, 'height']\n",
        "\n",
        "        if not height.empty:\n",
        "            return height.values[0]  # Return the first (and only) match\n",
        "\n",
        "        # If no player with the given name is found\n",
        "        return f\"Player '{name}' not found.\"\n",
        "\n",
        "    except Exception as e:\n",
        "        return f\"An error occurred: {e}\""
      ],
      "metadata": {
        "id": "urZ4Ub04nZIV"
      },
      "execution_count": null,
      "outputs": []
    },
    {
      "cell_type": "code",
      "source": [
        "# Function that convert player height to shoulder height\n",
        "\n",
        "def get_shoulder_height(player_height):\n",
        "  try:\n",
        "      # Split the height string by \"-\"\n",
        "      feet, inches = map(int, player_height.split('-'))\n",
        "\n",
        "      # Convert inches to decimal feet (1 foot = 12 inches)\n",
        "      decimal_height = feet + inches / 12\n",
        "\n",
        "      shoulder_height = 0.7 * decimal_height\n",
        "\n",
        "      return shoulder_height  # Rounded to 4 decimal places for precision\n",
        "  except Exception as e:\n",
        "      return f\"Invalid height format: {e}\""
      ],
      "metadata": {
        "id": "wCKkK-bCniib"
      },
      "execution_count": null,
      "outputs": []
    },
    {
      "cell_type": "code",
      "source": [
        "# Function that creates arm angle based on shoulder height, release height, release side\n",
        "\n",
        "# def get_arm_angle(shoulder_height, release_height, release_side):\n"
      ],
      "metadata": {
        "id": "KR5g8bTznnR0"
      },
      "execution_count": null,
      "outputs": []
    },
    {
      "cell_type": "code",
      "source": [
        "# Function that takes in dataframe, runs through above 4 functions, and creates new column in the dataframe\n",
        "\n",
        "def process_player_info(df):\n",
        "  # Apply the functions row by row to calculate the arm angle\n",
        "    def process_row(row):\n",
        "        name = row['Pitcher']\n",
        "        # release_height = row['Rel']\n",
        "        # release_side = row['release_side']\n",
        "\n",
        "        # Get player height from info_df\n",
        "        height_str = get_height(name)\n",
        "\n",
        "        if height_str:\n",
        "            # Convert height to decimal format\n",
        "            shoulder_height = get_shoulder_height(height_str)\n",
        "\n",
        "            if shoulder_height is not None:\n",
        "                # Calculate the arm angle\n",
        "                # arm_angle = get_arm_angle(shoulder_height, release_height, release_side)\n",
        "                # return arm_angle\n",
        "                return shoulder_height\n",
        "\n",
        "        return None  # Return None if any step fails\n",
        "\n",
        "    # Apply the process_row function to each row and store results in a new 'arm_angle' column\n",
        "    df['shoulder_height'] = df.apply(process_row, axis=1)\n",
        "\n",
        "    return df"
      ],
      "metadata": {
        "id": "OyGz73Qvn31b"
      },
      "execution_count": null,
      "outputs": []
    },
    {
      "cell_type": "code",
      "source": [
        "# cleanConf = process_player_info(cleanConf)"
      ],
      "metadata": {
        "id": "3RCQHMlZm90R"
      },
      "execution_count": null,
      "outputs": []
    },
    {
      "cell_type": "code",
      "source": [
        "print(\"Clean Conference size: \" + str(len(cleanConf)))"
      ],
      "metadata": {
        "colab": {
          "base_uri": "https://localhost:8080/"
        },
        "id": "Wl42RWYYF4dP",
        "outputId": "f0a4919f-a75c-4be6-ad1c-977ee2080152"
      },
      "execution_count": null,
      "outputs": [
        {
          "output_type": "stream",
          "name": "stdout",
          "text": [
            "Clean Conference size: 1712724\n"
          ]
        }
      ]
    },
    {
      "cell_type": "markdown",
      "source": [
        "# Making the model"
      ],
      "metadata": {
        "id": "Dad4bxauBinF"
      }
    },
    {
      "cell_type": "code",
      "source": [
        "finalCleanDF = cleanConf.dropna(subset=['isStuffResult', 'PitcherHand', 'RelSpeed', 'SpinRate', 'InducedVertBreak', 'HorzBreak', 'SpinAxis', 'RelHeight', 'RelSide', 'Extension'])\n",
        "finalDF = finalCleanDF[['isStuffResult', 'PitcherHand', 'RelSpeed', 'SpinRate', 'InducedVertBreak', 'HorzBreak', 'SpinAxis', 'RelHeight', 'RelSide', 'Extension']]"
      ],
      "metadata": {
        "id": "q3qkd_LFBkdQ"
      },
      "execution_count": null,
      "outputs": []
    },
    {
      "cell_type": "code",
      "source": [
        "finalDF.reset_index()"
      ],
      "metadata": {
        "colab": {
          "base_uri": "https://localhost:8080/",
          "height": 444
        },
        "id": "hrIatWNj6yWs",
        "outputId": "caad77df-9381-4514-8a9d-f39baa907c14"
      },
      "execution_count": null,
      "outputs": [
        {
          "output_type": "execute_result",
          "data": {
            "text/plain": [
              "           index  isStuffResult  PitcherHand  RelSpeed     SpinRate  \\\n",
              "0              0              1            0  99.52724  2694.881660   \n",
              "1              1              0            0  99.97207  2591.952252   \n",
              "2              2              1            0  82.98675  2868.547909   \n",
              "3              3              1            0  86.45521  2809.630437   \n",
              "4              4              0            0  82.26110  2939.165899   \n",
              "...          ...            ...          ...       ...          ...   \n",
              "1701434  3509696              0            0  89.14162  2786.309514   \n",
              "1701435  3509697              0            0  97.21620  2718.863995   \n",
              "1701436  3509698              1            0  91.19636  2679.303136   \n",
              "1701437  3509699              0            0  89.38379  2761.763969   \n",
              "1701438  3509700              0            0  90.97116  2703.849685   \n",
              "\n",
              "         InducedVertBreak  HorzBreak    SpinAxis  RelHeight  RelSide  \\\n",
              "0                16.74166   17.86536  228.580072    6.12523  2.49133   \n",
              "1                14.54879   16.43906  230.378430    6.14564  2.23451   \n",
              "2                -3.63477   -9.01126   61.314872    6.16553  2.49581   \n",
              "3                 7.70886   -9.07776  126.013235    5.99836  2.49053   \n",
              "4                -5.50744  -12.05288   60.441938    6.24191  4.11979   \n",
              "...                   ...        ...         ...        ...      ...   \n",
              "1701434           7.40339   -0.91756  171.818667    5.50441  1.93165   \n",
              "1701435          12.05568   15.90280  235.023465    5.28493  2.16669   \n",
              "1701436           9.43819    3.85055  204.529888    5.66796  2.05525   \n",
              "1701437           7.36918    0.88425  187.842951    5.55800  2.09080   \n",
              "1701438          10.06556    0.47358  182.976114    5.56167  2.05313   \n",
              "\n",
              "         Extension  \n",
              "0          5.42371  \n",
              "1          5.55892  \n",
              "2          4.63345  \n",
              "3          4.98830  \n",
              "4          4.85250  \n",
              "...            ...  \n",
              "1701434    4.70968  \n",
              "1701435    5.53639  \n",
              "1701436    4.93663  \n",
              "1701437    5.19417  \n",
              "1701438    5.16782  \n",
              "\n",
              "[1701439 rows x 11 columns]"
            ],
            "text/html": [
              "\n",
              "  <div id=\"df-92f3d215-425c-4448-a08a-34a88df89fca\" class=\"colab-df-container\">\n",
              "    <div>\n",
              "<style scoped>\n",
              "    .dataframe tbody tr th:only-of-type {\n",
              "        vertical-align: middle;\n",
              "    }\n",
              "\n",
              "    .dataframe tbody tr th {\n",
              "        vertical-align: top;\n",
              "    }\n",
              "\n",
              "    .dataframe thead th {\n",
              "        text-align: right;\n",
              "    }\n",
              "</style>\n",
              "<table border=\"1\" class=\"dataframe\">\n",
              "  <thead>\n",
              "    <tr style=\"text-align: right;\">\n",
              "      <th></th>\n",
              "      <th>index</th>\n",
              "      <th>isStuffResult</th>\n",
              "      <th>PitcherHand</th>\n",
              "      <th>RelSpeed</th>\n",
              "      <th>SpinRate</th>\n",
              "      <th>InducedVertBreak</th>\n",
              "      <th>HorzBreak</th>\n",
              "      <th>SpinAxis</th>\n",
              "      <th>RelHeight</th>\n",
              "      <th>RelSide</th>\n",
              "      <th>Extension</th>\n",
              "    </tr>\n",
              "  </thead>\n",
              "  <tbody>\n",
              "    <tr>\n",
              "      <th>0</th>\n",
              "      <td>0</td>\n",
              "      <td>1</td>\n",
              "      <td>0</td>\n",
              "      <td>99.52724</td>\n",
              "      <td>2694.881660</td>\n",
              "      <td>16.74166</td>\n",
              "      <td>17.86536</td>\n",
              "      <td>228.580072</td>\n",
              "      <td>6.12523</td>\n",
              "      <td>2.49133</td>\n",
              "      <td>5.42371</td>\n",
              "    </tr>\n",
              "    <tr>\n",
              "      <th>1</th>\n",
              "      <td>1</td>\n",
              "      <td>0</td>\n",
              "      <td>0</td>\n",
              "      <td>99.97207</td>\n",
              "      <td>2591.952252</td>\n",
              "      <td>14.54879</td>\n",
              "      <td>16.43906</td>\n",
              "      <td>230.378430</td>\n",
              "      <td>6.14564</td>\n",
              "      <td>2.23451</td>\n",
              "      <td>5.55892</td>\n",
              "    </tr>\n",
              "    <tr>\n",
              "      <th>2</th>\n",
              "      <td>2</td>\n",
              "      <td>1</td>\n",
              "      <td>0</td>\n",
              "      <td>82.98675</td>\n",
              "      <td>2868.547909</td>\n",
              "      <td>-3.63477</td>\n",
              "      <td>-9.01126</td>\n",
              "      <td>61.314872</td>\n",
              "      <td>6.16553</td>\n",
              "      <td>2.49581</td>\n",
              "      <td>4.63345</td>\n",
              "    </tr>\n",
              "    <tr>\n",
              "      <th>3</th>\n",
              "      <td>3</td>\n",
              "      <td>1</td>\n",
              "      <td>0</td>\n",
              "      <td>86.45521</td>\n",
              "      <td>2809.630437</td>\n",
              "      <td>7.70886</td>\n",
              "      <td>-9.07776</td>\n",
              "      <td>126.013235</td>\n",
              "      <td>5.99836</td>\n",
              "      <td>2.49053</td>\n",
              "      <td>4.98830</td>\n",
              "    </tr>\n",
              "    <tr>\n",
              "      <th>4</th>\n",
              "      <td>4</td>\n",
              "      <td>0</td>\n",
              "      <td>0</td>\n",
              "      <td>82.26110</td>\n",
              "      <td>2939.165899</td>\n",
              "      <td>-5.50744</td>\n",
              "      <td>-12.05288</td>\n",
              "      <td>60.441938</td>\n",
              "      <td>6.24191</td>\n",
              "      <td>4.11979</td>\n",
              "      <td>4.85250</td>\n",
              "    </tr>\n",
              "    <tr>\n",
              "      <th>...</th>\n",
              "      <td>...</td>\n",
              "      <td>...</td>\n",
              "      <td>...</td>\n",
              "      <td>...</td>\n",
              "      <td>...</td>\n",
              "      <td>...</td>\n",
              "      <td>...</td>\n",
              "      <td>...</td>\n",
              "      <td>...</td>\n",
              "      <td>...</td>\n",
              "      <td>...</td>\n",
              "    </tr>\n",
              "    <tr>\n",
              "      <th>1701434</th>\n",
              "      <td>3509696</td>\n",
              "      <td>0</td>\n",
              "      <td>0</td>\n",
              "      <td>89.14162</td>\n",
              "      <td>2786.309514</td>\n",
              "      <td>7.40339</td>\n",
              "      <td>-0.91756</td>\n",
              "      <td>171.818667</td>\n",
              "      <td>5.50441</td>\n",
              "      <td>1.93165</td>\n",
              "      <td>4.70968</td>\n",
              "    </tr>\n",
              "    <tr>\n",
              "      <th>1701435</th>\n",
              "      <td>3509697</td>\n",
              "      <td>0</td>\n",
              "      <td>0</td>\n",
              "      <td>97.21620</td>\n",
              "      <td>2718.863995</td>\n",
              "      <td>12.05568</td>\n",
              "      <td>15.90280</td>\n",
              "      <td>235.023465</td>\n",
              "      <td>5.28493</td>\n",
              "      <td>2.16669</td>\n",
              "      <td>5.53639</td>\n",
              "    </tr>\n",
              "    <tr>\n",
              "      <th>1701436</th>\n",
              "      <td>3509698</td>\n",
              "      <td>1</td>\n",
              "      <td>0</td>\n",
              "      <td>91.19636</td>\n",
              "      <td>2679.303136</td>\n",
              "      <td>9.43819</td>\n",
              "      <td>3.85055</td>\n",
              "      <td>204.529888</td>\n",
              "      <td>5.66796</td>\n",
              "      <td>2.05525</td>\n",
              "      <td>4.93663</td>\n",
              "    </tr>\n",
              "    <tr>\n",
              "      <th>1701437</th>\n",
              "      <td>3509699</td>\n",
              "      <td>0</td>\n",
              "      <td>0</td>\n",
              "      <td>89.38379</td>\n",
              "      <td>2761.763969</td>\n",
              "      <td>7.36918</td>\n",
              "      <td>0.88425</td>\n",
              "      <td>187.842951</td>\n",
              "      <td>5.55800</td>\n",
              "      <td>2.09080</td>\n",
              "      <td>5.19417</td>\n",
              "    </tr>\n",
              "    <tr>\n",
              "      <th>1701438</th>\n",
              "      <td>3509700</td>\n",
              "      <td>0</td>\n",
              "      <td>0</td>\n",
              "      <td>90.97116</td>\n",
              "      <td>2703.849685</td>\n",
              "      <td>10.06556</td>\n",
              "      <td>0.47358</td>\n",
              "      <td>182.976114</td>\n",
              "      <td>5.56167</td>\n",
              "      <td>2.05313</td>\n",
              "      <td>5.16782</td>\n",
              "    </tr>\n",
              "  </tbody>\n",
              "</table>\n",
              "<p>1701439 rows × 11 columns</p>\n",
              "</div>\n",
              "    <div class=\"colab-df-buttons\">\n",
              "\n",
              "  <div class=\"colab-df-container\">\n",
              "    <button class=\"colab-df-convert\" onclick=\"convertToInteractive('df-92f3d215-425c-4448-a08a-34a88df89fca')\"\n",
              "            title=\"Convert this dataframe to an interactive table.\"\n",
              "            style=\"display:none;\">\n",
              "\n",
              "  <svg xmlns=\"http://www.w3.org/2000/svg\" height=\"24px\" viewBox=\"0 -960 960 960\">\n",
              "    <path d=\"M120-120v-720h720v720H120Zm60-500h600v-160H180v160Zm220 220h160v-160H400v160Zm0 220h160v-160H400v160ZM180-400h160v-160H180v160Zm440 0h160v-160H620v160ZM180-180h160v-160H180v160Zm440 0h160v-160H620v160Z\"/>\n",
              "  </svg>\n",
              "    </button>\n",
              "\n",
              "  <style>\n",
              "    .colab-df-container {\n",
              "      display:flex;\n",
              "      gap: 12px;\n",
              "    }\n",
              "\n",
              "    .colab-df-convert {\n",
              "      background-color: #E8F0FE;\n",
              "      border: none;\n",
              "      border-radius: 50%;\n",
              "      cursor: pointer;\n",
              "      display: none;\n",
              "      fill: #1967D2;\n",
              "      height: 32px;\n",
              "      padding: 0 0 0 0;\n",
              "      width: 32px;\n",
              "    }\n",
              "\n",
              "    .colab-df-convert:hover {\n",
              "      background-color: #E2EBFA;\n",
              "      box-shadow: 0px 1px 2px rgba(60, 64, 67, 0.3), 0px 1px 3px 1px rgba(60, 64, 67, 0.15);\n",
              "      fill: #174EA6;\n",
              "    }\n",
              "\n",
              "    .colab-df-buttons div {\n",
              "      margin-bottom: 4px;\n",
              "    }\n",
              "\n",
              "    [theme=dark] .colab-df-convert {\n",
              "      background-color: #3B4455;\n",
              "      fill: #D2E3FC;\n",
              "    }\n",
              "\n",
              "    [theme=dark] .colab-df-convert:hover {\n",
              "      background-color: #434B5C;\n",
              "      box-shadow: 0px 1px 3px 1px rgba(0, 0, 0, 0.15);\n",
              "      filter: drop-shadow(0px 1px 2px rgba(0, 0, 0, 0.3));\n",
              "      fill: #FFFFFF;\n",
              "    }\n",
              "  </style>\n",
              "\n",
              "    <script>\n",
              "      const buttonEl =\n",
              "        document.querySelector('#df-92f3d215-425c-4448-a08a-34a88df89fca button.colab-df-convert');\n",
              "      buttonEl.style.display =\n",
              "        google.colab.kernel.accessAllowed ? 'block' : 'none';\n",
              "\n",
              "      async function convertToInteractive(key) {\n",
              "        const element = document.querySelector('#df-92f3d215-425c-4448-a08a-34a88df89fca');\n",
              "        const dataTable =\n",
              "          await google.colab.kernel.invokeFunction('convertToInteractive',\n",
              "                                                    [key], {});\n",
              "        if (!dataTable) return;\n",
              "\n",
              "        const docLinkHtml = 'Like what you see? Visit the ' +\n",
              "          '<a target=\"_blank\" href=https://colab.research.google.com/notebooks/data_table.ipynb>data table notebook</a>'\n",
              "          + ' to learn more about interactive tables.';\n",
              "        element.innerHTML = '';\n",
              "        dataTable['output_type'] = 'display_data';\n",
              "        await google.colab.output.renderOutput(dataTable, element);\n",
              "        const docLink = document.createElement('div');\n",
              "        docLink.innerHTML = docLinkHtml;\n",
              "        element.appendChild(docLink);\n",
              "      }\n",
              "    </script>\n",
              "  </div>\n",
              "\n",
              "\n",
              "<div id=\"df-3a24a192-a2ca-429f-a118-ac204e9b1971\">\n",
              "  <button class=\"colab-df-quickchart\" onclick=\"quickchart('df-3a24a192-a2ca-429f-a118-ac204e9b1971')\"\n",
              "            title=\"Suggest charts\"\n",
              "            style=\"display:none;\">\n",
              "\n",
              "<svg xmlns=\"http://www.w3.org/2000/svg\" height=\"24px\"viewBox=\"0 0 24 24\"\n",
              "     width=\"24px\">\n",
              "    <g>\n",
              "        <path d=\"M19 3H5c-1.1 0-2 .9-2 2v14c0 1.1.9 2 2 2h14c1.1 0 2-.9 2-2V5c0-1.1-.9-2-2-2zM9 17H7v-7h2v7zm4 0h-2V7h2v10zm4 0h-2v-4h2v4z\"/>\n",
              "    </g>\n",
              "</svg>\n",
              "  </button>\n",
              "\n",
              "<style>\n",
              "  .colab-df-quickchart {\n",
              "      --bg-color: #E8F0FE;\n",
              "      --fill-color: #1967D2;\n",
              "      --hover-bg-color: #E2EBFA;\n",
              "      --hover-fill-color: #174EA6;\n",
              "      --disabled-fill-color: #AAA;\n",
              "      --disabled-bg-color: #DDD;\n",
              "  }\n",
              "\n",
              "  [theme=dark] .colab-df-quickchart {\n",
              "      --bg-color: #3B4455;\n",
              "      --fill-color: #D2E3FC;\n",
              "      --hover-bg-color: #434B5C;\n",
              "      --hover-fill-color: #FFFFFF;\n",
              "      --disabled-bg-color: #3B4455;\n",
              "      --disabled-fill-color: #666;\n",
              "  }\n",
              "\n",
              "  .colab-df-quickchart {\n",
              "    background-color: var(--bg-color);\n",
              "    border: none;\n",
              "    border-radius: 50%;\n",
              "    cursor: pointer;\n",
              "    display: none;\n",
              "    fill: var(--fill-color);\n",
              "    height: 32px;\n",
              "    padding: 0;\n",
              "    width: 32px;\n",
              "  }\n",
              "\n",
              "  .colab-df-quickchart:hover {\n",
              "    background-color: var(--hover-bg-color);\n",
              "    box-shadow: 0 1px 2px rgba(60, 64, 67, 0.3), 0 1px 3px 1px rgba(60, 64, 67, 0.15);\n",
              "    fill: var(--button-hover-fill-color);\n",
              "  }\n",
              "\n",
              "  .colab-df-quickchart-complete:disabled,\n",
              "  .colab-df-quickchart-complete:disabled:hover {\n",
              "    background-color: var(--disabled-bg-color);\n",
              "    fill: var(--disabled-fill-color);\n",
              "    box-shadow: none;\n",
              "  }\n",
              "\n",
              "  .colab-df-spinner {\n",
              "    border: 2px solid var(--fill-color);\n",
              "    border-color: transparent;\n",
              "    border-bottom-color: var(--fill-color);\n",
              "    animation:\n",
              "      spin 1s steps(1) infinite;\n",
              "  }\n",
              "\n",
              "  @keyframes spin {\n",
              "    0% {\n",
              "      border-color: transparent;\n",
              "      border-bottom-color: var(--fill-color);\n",
              "      border-left-color: var(--fill-color);\n",
              "    }\n",
              "    20% {\n",
              "      border-color: transparent;\n",
              "      border-left-color: var(--fill-color);\n",
              "      border-top-color: var(--fill-color);\n",
              "    }\n",
              "    30% {\n",
              "      border-color: transparent;\n",
              "      border-left-color: var(--fill-color);\n",
              "      border-top-color: var(--fill-color);\n",
              "      border-right-color: var(--fill-color);\n",
              "    }\n",
              "    40% {\n",
              "      border-color: transparent;\n",
              "      border-right-color: var(--fill-color);\n",
              "      border-top-color: var(--fill-color);\n",
              "    }\n",
              "    60% {\n",
              "      border-color: transparent;\n",
              "      border-right-color: var(--fill-color);\n",
              "    }\n",
              "    80% {\n",
              "      border-color: transparent;\n",
              "      border-right-color: var(--fill-color);\n",
              "      border-bottom-color: var(--fill-color);\n",
              "    }\n",
              "    90% {\n",
              "      border-color: transparent;\n",
              "      border-bottom-color: var(--fill-color);\n",
              "    }\n",
              "  }\n",
              "</style>\n",
              "\n",
              "  <script>\n",
              "    async function quickchart(key) {\n",
              "      const quickchartButtonEl =\n",
              "        document.querySelector('#' + key + ' button');\n",
              "      quickchartButtonEl.disabled = true;  // To prevent multiple clicks.\n",
              "      quickchartButtonEl.classList.add('colab-df-spinner');\n",
              "      try {\n",
              "        const charts = await google.colab.kernel.invokeFunction(\n",
              "            'suggestCharts', [key], {});\n",
              "      } catch (error) {\n",
              "        console.error('Error during call to suggestCharts:', error);\n",
              "      }\n",
              "      quickchartButtonEl.classList.remove('colab-df-spinner');\n",
              "      quickchartButtonEl.classList.add('colab-df-quickchart-complete');\n",
              "    }\n",
              "    (() => {\n",
              "      let quickchartButtonEl =\n",
              "        document.querySelector('#df-3a24a192-a2ca-429f-a118-ac204e9b1971 button');\n",
              "      quickchartButtonEl.style.display =\n",
              "        google.colab.kernel.accessAllowed ? 'block' : 'none';\n",
              "    })();\n",
              "  </script>\n",
              "</div>\n",
              "\n",
              "    </div>\n",
              "  </div>\n"
            ],
            "application/vnd.google.colaboratory.intrinsic+json": {
              "type": "dataframe"
            }
          },
          "metadata": {},
          "execution_count": 41
        }
      ]
    },
    {
      "cell_type": "code",
      "source": [
        "print(finalDF.shape)"
      ],
      "metadata": {
        "colab": {
          "base_uri": "https://localhost:8080/"
        },
        "id": "7eheKY0tDCDi",
        "outputId": "4357b04c-ae42-4f42-c497-61ad07d58710"
      },
      "execution_count": null,
      "outputs": [
        {
          "output_type": "stream",
          "name": "stdout",
          "text": [
            "(1701439, 10)\n"
          ]
        }
      ]
    },
    {
      "cell_type": "markdown",
      "source": [
        "## Making General Model"
      ],
      "metadata": {
        "id": "8CxfMOMSEPzu"
      }
    },
    {
      "cell_type": "code",
      "source": [
        "minority_class = finalDF[finalDF['isStuffResult'] == 1]\n",
        "majority_class = finalDF[finalDF['isStuffResult'] == 0]\n",
        "\n",
        "print(\"majority class is: \" + str(len(majority_class)) + \" (\" + str(100*len(majority_class)/(len(majority_class)+len(minority_class))) + \")\")\n",
        "print(\"minority class is: \" + str(len(minority_class)) + \" (\" + str(100*len(minority_class)/(len(majority_class)+len(minority_class))) + \")\")\n",
        "\n",
        "print(\"total is: \" + str(len(majority_class)+len(minority_class)))"
      ],
      "metadata": {
        "colab": {
          "base_uri": "https://localhost:8080/"
        },
        "id": "bnjUUoPLDHVr",
        "outputId": "81b84b87-75aa-4c90-86ab-c86c856f1075"
      },
      "execution_count": null,
      "outputs": [
        {
          "output_type": "stream",
          "name": "stdout",
          "text": [
            "majority class is: 977448 (57.448312869283)\n",
            "minority class is: 723991 (42.551687130717)\n",
            "total is: 1701439\n"
          ]
        }
      ]
    },
    {
      "cell_type": "code",
      "execution_count": null,
      "metadata": {
        "id": "tsbcZU879aP4"
      },
      "outputs": [],
      "source": [
        "# resamples the class\n",
        "from sklearn.utils import resample\n",
        "majority_class_downsampled = resample(majority_class,\n",
        "                                      replace=False,  # sample without replacement\n",
        "                                      n_samples=len(minority_class)*1,  # match minority class size\n",
        "                                      #n_samples = 390000,\n",
        "                                      random_state=42)  # reproducible results\n",
        "minority_class_upsampled = resample(minority_class,\n",
        "                                      replace=True,  # sample without replacement\n",
        "                                      n_samples=int(len(minority_class)*1),  # match minority class size\n",
        "                                      #n_samples = 390000,\n",
        "                                      random_state=42)  # reproducible results\n",
        "\n",
        "# Combine minority class and downsampled majority class\n",
        "balanced_df = pd.concat([minority_class_upsampled, majority_class_downsampled])\n",
        "\n",
        "\n"
      ]
    },
    {
      "cell_type": "code",
      "execution_count": null,
      "metadata": {
        "id": "kmYzAkzh_ri6"
      },
      "outputs": [],
      "source": [
        "# Shuffle the data to avoid order effects\n",
        "# figure why this don't work\n",
        "# balanced_df = balanced_df.sample(frac=1, random_state=42)\n",
        "balanced_df = balanced_df.sample(frac=1, random_state=42)\n"
      ]
    },
    {
      "cell_type": "code",
      "execution_count": null,
      "metadata": {
        "id": "WdO2bnTQi0Yx"
      },
      "outputs": [],
      "source": [
        "rel_data = balanced_df[['isStuffResult', 'PitcherHand', 'RelSpeed', 'SpinRate', 'InducedVertBreak', 'HorzBreak', 'SpinAxis', 'RelHeight', 'RelSide', 'Extension']].to_numpy()\n",
        "\n",
        "\n",
        "classification = balanced_df['isStuffResult'].to_numpy()"
      ]
    },
    {
      "cell_type": "code",
      "execution_count": null,
      "metadata": {
        "colab": {
          "base_uri": "https://localhost:8080/"
        },
        "outputId": "97a9ce7a-74a2-4f20-ac5b-018705415cd5",
        "id": "X5dl8w4fFEkh"
      },
      "outputs": [
        {
          "output_type": "stream",
          "name": "stdout",
          "text": [
            "majority class is: 723991\n",
            "minority class is: 723991\n",
            "total is: 1447982\n"
          ]
        }
      ],
      "source": [
        "minority = balanced_df[balanced_df['isStuffResult'] == 1]\n",
        "majority = balanced_df[balanced_df['isStuffResult'] != 1]\n",
        "\n",
        "print(\"majority class is: \" + str(len(majority)))\n",
        "print(\"minority class is: \" + str(len(minority)))\n",
        "\n",
        "print(\"total is: \" + str(len(majority)+len(minority)))\n",
        "\n",
        "sampledTotal = len(majority) + len(minority)\n",
        "trainTotal = int(0.8*sampledTotal)"
      ]
    },
    {
      "cell_type": "code",
      "execution_count": null,
      "metadata": {
        "id": "ouxXdkj5IBEt"
      },
      "outputs": [],
      "source": [
        "# Split data into features and target\n",
        "X = balanced_df.drop(['isStuffResult'], axis=1)\n",
        "y = balanced_df['isStuffResult']\n",
        "\n",
        "# X_train, X_temp, y_train, y_temp = train_test_split(X, y, test_size=0.4, random_state=42, stratify=y)\n",
        "# X_test, X_val, y_test, y_val = train_test_split(X_temp, y_temp, test_size=0.5, random_state=42, stratify=y_temp)\n",
        "\n",
        "# print(f\"Train size: {len(X_train)}\")\n",
        "# print(f\"Test size: {len(X_test)}\")\n",
        "# print(f\"Validation size: {len(X_val)}\")\n",
        "\n",
        "# Split data into training and testing sets\n",
        "x_train = X[:trainTotal]\n",
        "x_test = X[trainTotal:]\n",
        "y_train = y[:trainTotal]\n",
        "y_test = y[trainTotal:]\n",
        "\n",
        "from sklearn import preprocessing\n",
        "\n",
        "# Standardize the features\n",
        "scaler = preprocessing.StandardScaler().fit(x_train)\n",
        "x_train_scaled = scaler.transform(x_train)\n",
        "x_test_scaled = scaler.transform(x_test)"
      ]
    },
    {
      "cell_type": "markdown",
      "source": [
        "### Using Optuna Hyperparam Tuning"
      ],
      "metadata": {
        "id": "QWpvDE-dDBYZ"
      }
    },
    {
      "cell_type": "code",
      "source": [
        "!pip install optuna"
      ],
      "metadata": {
        "colab": {
          "base_uri": "https://localhost:8080/"
        },
        "collapsed": true,
        "id": "P93HBIL6DA1T",
        "outputId": "f31bab17-b202-4ef2-a7b1-6872257a8ae9"
      },
      "execution_count": null,
      "outputs": [
        {
          "output_type": "stream",
          "name": "stdout",
          "text": [
            "Collecting optuna\n",
            "  Downloading optuna-4.0.0-py3-none-any.whl.metadata (16 kB)\n",
            "Collecting alembic>=1.5.0 (from optuna)\n",
            "  Downloading alembic-1.13.2-py3-none-any.whl.metadata (7.4 kB)\n",
            "Collecting colorlog (from optuna)\n",
            "  Downloading colorlog-6.8.2-py3-none-any.whl.metadata (10 kB)\n",
            "Requirement already satisfied: numpy in /usr/local/lib/python3.10/dist-packages (from optuna) (1.26.4)\n",
            "Requirement already satisfied: packaging>=20.0 in /usr/local/lib/python3.10/dist-packages (from optuna) (24.1)\n",
            "Requirement already satisfied: sqlalchemy>=1.3.0 in /usr/local/lib/python3.10/dist-packages (from optuna) (2.0.34)\n",
            "Requirement already satisfied: tqdm in /usr/local/lib/python3.10/dist-packages (from optuna) (4.66.5)\n",
            "Requirement already satisfied: PyYAML in /usr/local/lib/python3.10/dist-packages (from optuna) (6.0.2)\n",
            "Collecting Mako (from alembic>=1.5.0->optuna)\n",
            "  Downloading Mako-1.3.5-py3-none-any.whl.metadata (2.9 kB)\n",
            "Requirement already satisfied: typing-extensions>=4 in /usr/local/lib/python3.10/dist-packages (from alembic>=1.5.0->optuna) (4.12.2)\n",
            "Requirement already satisfied: greenlet!=0.4.17 in /usr/local/lib/python3.10/dist-packages (from sqlalchemy>=1.3.0->optuna) (3.1.0)\n",
            "Requirement already satisfied: MarkupSafe>=0.9.2 in /usr/local/lib/python3.10/dist-packages (from Mako->alembic>=1.5.0->optuna) (2.1.5)\n",
            "Downloading optuna-4.0.0-py3-none-any.whl (362 kB)\n",
            "\u001b[2K   \u001b[90m━━━━━━━━━━━━━━━━━━━━━━━━━━━━━━━━━━━━━━━━\u001b[0m \u001b[32m362.8/362.8 kB\u001b[0m \u001b[31m28.7 MB/s\u001b[0m eta \u001b[36m0:00:00\u001b[0m\n",
            "\u001b[?25hDownloading alembic-1.13.2-py3-none-any.whl (232 kB)\n",
            "\u001b[2K   \u001b[90m━━━━━━━━━━━━━━━━━━━━━━━━━━━━━━━━━━━━━━━━\u001b[0m \u001b[32m233.0/233.0 kB\u001b[0m \u001b[31m21.6 MB/s\u001b[0m eta \u001b[36m0:00:00\u001b[0m\n",
            "\u001b[?25hDownloading colorlog-6.8.2-py3-none-any.whl (11 kB)\n",
            "Downloading Mako-1.3.5-py3-none-any.whl (78 kB)\n",
            "\u001b[2K   \u001b[90m━━━━━━━━━━━━━━━━━━━━━━━━━━━━━━━━━━━━━━━━\u001b[0m \u001b[32m78.6/78.6 kB\u001b[0m \u001b[31m8.0 MB/s\u001b[0m eta \u001b[36m0:00:00\u001b[0m\n",
            "\u001b[?25hInstalling collected packages: Mako, colorlog, alembic, optuna\n",
            "Successfully installed Mako-1.3.5 alembic-1.13.2 colorlog-6.8.2 optuna-4.0.0\n"
          ]
        }
      ]
    },
    {
      "cell_type": "code",
      "source": [
        "import optuna\n",
        "import xgboost as xgb\n",
        "from sklearn.metrics import accuracy_score\n",
        "from sklearn.preprocessing import StandardScaler\n",
        "\n",
        "# Define objective function for Optuna\n",
        "def objective(trial):\n",
        "    # Suggest hyperparameters to tune\n",
        "    eta = trial.suggest_float('eta', 0.0001, 0.1, log=True)\n",
        "    max_depth = trial.suggest_int('max_depth', 3, 150)\n",
        "    n_estimators = trial.suggest_int('n_estimators', 50, 200)\n",
        "\n",
        "    # Standardize the data\n",
        "    scaler = StandardScaler()\n",
        "    x_train_scaled = scaler.fit_transform(x_train)\n",
        "    x_test_scaled = scaler.transform(x_test)\n",
        "\n",
        "    # Convert the data into DMatrix for GPU processing\n",
        "    dtrain = xgb.DMatrix(x_train_scaled, label=y_train)\n",
        "    dtest = xgb.DMatrix(x_test_scaled, label=y_test)\n",
        "\n",
        "    # Set parameters for GPU usage and training\n",
        "    params = {\n",
        "        'eta': eta,\n",
        "        'max_depth': max_depth,\n",
        "        'objective': 'binary:logistic',  # Assuming binary classification\n",
        "        'eval_metric': 'logloss',\n",
        "        'tree_method': 'hist',       # Use GPU for training\n",
        "        'device': 'cuda',    # Use GPU for prediction\n",
        "    }\n",
        "\n",
        "    # Train the model using DMatrix and suggested hyperparameters\n",
        "    model = xgb.train(params, dtrain, num_boost_round=n_estimators)\n",
        "\n",
        "    # Predict using the test set\n",
        "    y_pred_proba = model.predict(dtest)\n",
        "    y_pred = [1 if p > 0.5 else 0 for p in y_pred_proba]  # Convert probabilities to binary predictions\n",
        "\n",
        "    # Calculate accuracy\n",
        "    accuracy = accuracy_score(y_test, y_pred)\n",
        "\n",
        "    # Print trial result\n",
        "    print(f\"Trial {trial.number}: Accuracy={accuracy:.4f}, eta={eta}, max_depth={max_depth}, n_estimators={n_estimators}\")\n",
        "\n",
        "    return accuracy  # Optuna will try to maximize this\n",
        "\n",
        "# Create a study object and specify to maximize accuracy\n",
        "study = optuna.create_study(direction='maximize')\n",
        "\n",
        "# Start optimization (define the number of trials)\n",
        "study.optimize(objective, n_trials=20)\n",
        "\n",
        "# Get the best hyperparameters\n",
        "print(\"Best trial:\")\n",
        "trial = study.best_trial\n",
        "print(f\"  Accuracy: {trial.value}\")\n",
        "print(f\"  Best hyperparameters: {trial.params}\")\n"
      ],
      "metadata": {
        "colab": {
          "base_uri": "https://localhost:8080/"
        },
        "id": "umR4lFV4DA3T",
        "outputId": "1edc338f-ac56-4be4-d81d-1bc00f1b3a14"
      },
      "execution_count": null,
      "outputs": [
        {
          "output_type": "stream",
          "name": "stderr",
          "text": [
            "[I 2024-09-16 19:16:07,515] A new study created in memory with name: no-name-7736011e-2114-4511-b707-ff90b29b1e4a\n",
            "<ipython-input-33-b93668afb479>:9: FutureWarning: suggest_loguniform has been deprecated in v3.0.0. This feature will be removed in v6.0.0. See https://github.com/optuna/optuna/releases/tag/v3.0.0. Use suggest_float(..., log=True) instead.\n",
            "  eta = trial.suggest_loguniform('eta', 0.0001, 0.1)\n",
            "/usr/local/lib/python3.10/dist-packages/xgboost/core.py:158: UserWarning: [19:16:07] WARNING: /workspace/src/common/error_msg.cc:27: The tree method `gpu_hist` is deprecated since 2.0.0. To use GPU training, set the `device` parameter to CUDA instead.\n",
            "\n",
            "    E.g. tree_method = \"hist\", device = \"cuda\"\n",
            "\n",
            "  warnings.warn(smsg, UserWarning)\n",
            "/usr/local/lib/python3.10/dist-packages/xgboost/core.py:158: UserWarning: [19:16:07] WARNING: /workspace/src/learner.cc:740: \n",
            "Parameters: { \"predictor\" } are not used.\n",
            "\n",
            "  warnings.warn(smsg, UserWarning)\n",
            "/usr/local/lib/python3.10/dist-packages/xgboost/core.py:158: UserWarning: [19:19:08] WARNING: /workspace/src/common/error_msg.cc:27: The tree method `gpu_hist` is deprecated since 2.0.0. To use GPU training, set the `device` parameter to CUDA instead.\n",
            "\n",
            "    E.g. tree_method = \"hist\", device = \"cuda\"\n",
            "\n",
            "  warnings.warn(smsg, UserWarning)\n",
            "[I 2024-09-16 19:19:09,974] Trial 0 finished with value: 0.6584356882150022 and parameters: {'eta': 0.003241898172191929, 'max_depth': 100, 'n_estimators': 70}. Best is trial 0 with value: 0.6584356882150022.\n"
          ]
        },
        {
          "output_type": "stream",
          "name": "stdout",
          "text": [
            "Trial 0: Accuracy=0.6584, eta=0.003241898172191929, max_depth=100, n_estimators=70\n"
          ]
        },
        {
          "output_type": "stream",
          "name": "stderr",
          "text": [
            "<ipython-input-33-b93668afb479>:9: FutureWarning: suggest_loguniform has been deprecated in v3.0.0. This feature will be removed in v6.0.0. See https://github.com/optuna/optuna/releases/tag/v3.0.0. Use suggest_float(..., log=True) instead.\n",
            "  eta = trial.suggest_loguniform('eta', 0.0001, 0.1)\n",
            "/usr/local/lib/python3.10/dist-packages/xgboost/core.py:158: UserWarning: [19:19:10] WARNING: /workspace/src/common/error_msg.cc:27: The tree method `gpu_hist` is deprecated since 2.0.0. To use GPU training, set the `device` parameter to CUDA instead.\n",
            "\n",
            "    E.g. tree_method = \"hist\", device = \"cuda\"\n",
            "\n",
            "  warnings.warn(smsg, UserWarning)\n",
            "/usr/local/lib/python3.10/dist-packages/xgboost/core.py:158: UserWarning: [19:19:10] WARNING: /workspace/src/learner.cc:740: \n",
            "Parameters: { \"predictor\" } are not used.\n",
            "\n",
            "  warnings.warn(smsg, UserWarning)\n",
            "/usr/local/lib/python3.10/dist-packages/xgboost/core.py:158: UserWarning: [19:21:30] WARNING: /workspace/src/common/error_msg.cc:27: The tree method `gpu_hist` is deprecated since 2.0.0. To use GPU training, set the `device` parameter to CUDA instead.\n",
            "\n",
            "    E.g. tree_method = \"hist\", device = \"cuda\"\n",
            "\n",
            "  warnings.warn(smsg, UserWarning)\n",
            "[I 2024-09-16 19:21:31,784] Trial 1 finished with value: 0.6621857270620898 and parameters: {'eta': 0.005226151243909066, 'max_depth': 24, 'n_estimators': 134}. Best is trial 1 with value: 0.6621857270620898.\n"
          ]
        },
        {
          "output_type": "stream",
          "name": "stdout",
          "text": [
            "Trial 1: Accuracy=0.6622, eta=0.005226151243909066, max_depth=24, n_estimators=134\n"
          ]
        },
        {
          "output_type": "stream",
          "name": "stderr",
          "text": [
            "<ipython-input-33-b93668afb479>:9: FutureWarning: suggest_loguniform has been deprecated in v3.0.0. This feature will be removed in v6.0.0. See https://github.com/optuna/optuna/releases/tag/v3.0.0. Use suggest_float(..., log=True) instead.\n",
            "  eta = trial.suggest_loguniform('eta', 0.0001, 0.1)\n",
            "/usr/local/lib/python3.10/dist-packages/xgboost/core.py:158: UserWarning: [19:21:31] WARNING: /workspace/src/common/error_msg.cc:27: The tree method `gpu_hist` is deprecated since 2.0.0. To use GPU training, set the `device` parameter to CUDA instead.\n",
            "\n",
            "    E.g. tree_method = \"hist\", device = \"cuda\"\n",
            "\n",
            "  warnings.warn(smsg, UserWarning)\n",
            "/usr/local/lib/python3.10/dist-packages/xgboost/core.py:158: UserWarning: [19:21:31] WARNING: /workspace/src/learner.cc:740: \n",
            "Parameters: { \"predictor\" } are not used.\n",
            "\n",
            "  warnings.warn(smsg, UserWarning)\n",
            "/usr/local/lib/python3.10/dist-packages/xgboost/core.py:158: UserWarning: [19:27:14] WARNING: /workspace/src/common/error_msg.cc:27: The tree method `gpu_hist` is deprecated since 2.0.0. To use GPU training, set the `device` parameter to CUDA instead.\n",
            "\n",
            "    E.g. tree_method = \"hist\", device = \"cuda\"\n",
            "\n",
            "  warnings.warn(smsg, UserWarning)\n",
            "[I 2024-09-16 19:27:16,236] Trial 2 finished with value: 0.698304885755032 and parameters: {'eta': 0.008048586331126689, 'max_depth': 32, 'n_estimators': 173}. Best is trial 2 with value: 0.698304885755032.\n"
          ]
        },
        {
          "output_type": "stream",
          "name": "stdout",
          "text": [
            "Trial 2: Accuracy=0.6983, eta=0.008048586331126689, max_depth=32, n_estimators=173\n"
          ]
        },
        {
          "output_type": "stream",
          "name": "stderr",
          "text": [
            "<ipython-input-33-b93668afb479>:9: FutureWarning: suggest_loguniform has been deprecated in v3.0.0. This feature will be removed in v6.0.0. See https://github.com/optuna/optuna/releases/tag/v3.0.0. Use suggest_float(..., log=True) instead.\n",
            "  eta = trial.suggest_loguniform('eta', 0.0001, 0.1)\n",
            "/usr/local/lib/python3.10/dist-packages/xgboost/core.py:158: UserWarning: [19:27:16] WARNING: /workspace/src/common/error_msg.cc:27: The tree method `gpu_hist` is deprecated since 2.0.0. To use GPU training, set the `device` parameter to CUDA instead.\n",
            "\n",
            "    E.g. tree_method = \"hist\", device = \"cuda\"\n",
            "\n",
            "  warnings.warn(smsg, UserWarning)\n",
            "/usr/local/lib/python3.10/dist-packages/xgboost/core.py:158: UserWarning: [19:27:16] WARNING: /workspace/src/learner.cc:740: \n",
            "Parameters: { \"predictor\" } are not used.\n",
            "\n",
            "  warnings.warn(smsg, UserWarning)\n",
            "/usr/local/lib/python3.10/dist-packages/xgboost/core.py:158: UserWarning: [19:31:04] WARNING: /workspace/src/common/error_msg.cc:27: The tree method `gpu_hist` is deprecated since 2.0.0. To use GPU training, set the `device` parameter to CUDA instead.\n",
            "\n",
            "    E.g. tree_method = \"hist\", device = \"cuda\"\n",
            "\n",
            "  warnings.warn(smsg, UserWarning)\n",
            "[I 2024-09-16 19:31:05,128] Trial 3 finished with value: 0.6455522674613342 and parameters: {'eta': 0.0013960721305896154, 'max_depth': 125, 'n_estimators': 88}. Best is trial 2 with value: 0.698304885755032.\n"
          ]
        },
        {
          "output_type": "stream",
          "name": "stdout",
          "text": [
            "Trial 3: Accuracy=0.6456, eta=0.0013960721305896154, max_depth=125, n_estimators=88\n"
          ]
        },
        {
          "output_type": "stream",
          "name": "stderr",
          "text": [
            "<ipython-input-33-b93668afb479>:9: FutureWarning: suggest_loguniform has been deprecated in v3.0.0. This feature will be removed in v6.0.0. See https://github.com/optuna/optuna/releases/tag/v3.0.0. Use suggest_float(..., log=True) instead.\n",
            "  eta = trial.suggest_loguniform('eta', 0.0001, 0.1)\n",
            "/usr/local/lib/python3.10/dist-packages/xgboost/core.py:158: UserWarning: [19:31:05] WARNING: /workspace/src/common/error_msg.cc:27: The tree method `gpu_hist` is deprecated since 2.0.0. To use GPU training, set the `device` parameter to CUDA instead.\n",
            "\n",
            "    E.g. tree_method = \"hist\", device = \"cuda\"\n",
            "\n",
            "  warnings.warn(smsg, UserWarning)\n",
            "/usr/local/lib/python3.10/dist-packages/xgboost/core.py:158: UserWarning: [19:31:05] WARNING: /workspace/src/learner.cc:740: \n",
            "Parameters: { \"predictor\" } are not used.\n",
            "\n",
            "  warnings.warn(smsg, UserWarning)\n",
            "/usr/local/lib/python3.10/dist-packages/xgboost/core.py:158: UserWarning: [19:33:45] WARNING: /workspace/src/common/error_msg.cc:27: The tree method `gpu_hist` is deprecated since 2.0.0. To use GPU training, set the `device` parameter to CUDA instead.\n",
            "\n",
            "    E.g. tree_method = \"hist\", device = \"cuda\"\n",
            "\n",
            "  warnings.warn(smsg, UserWarning)\n",
            "[I 2024-09-16 19:33:46,522] Trial 4 finished with value: 0.7071758340038052 and parameters: {'eta': 0.03652697262818614, 'max_depth': 40, 'n_estimators': 76}. Best is trial 4 with value: 0.7071758340038052.\n"
          ]
        },
        {
          "output_type": "stream",
          "name": "stdout",
          "text": [
            "Trial 4: Accuracy=0.7072, eta=0.03652697262818614, max_depth=40, n_estimators=76\n"
          ]
        },
        {
          "output_type": "stream",
          "name": "stderr",
          "text": [
            "<ipython-input-33-b93668afb479>:9: FutureWarning: suggest_loguniform has been deprecated in v3.0.0. This feature will be removed in v6.0.0. See https://github.com/optuna/optuna/releases/tag/v3.0.0. Use suggest_float(..., log=True) instead.\n",
            "  eta = trial.suggest_loguniform('eta', 0.0001, 0.1)\n",
            "/usr/local/lib/python3.10/dist-packages/xgboost/core.py:158: UserWarning: [19:33:46] WARNING: /workspace/src/common/error_msg.cc:27: The tree method `gpu_hist` is deprecated since 2.0.0. To use GPU training, set the `device` parameter to CUDA instead.\n",
            "\n",
            "    E.g. tree_method = \"hist\", device = \"cuda\"\n",
            "\n",
            "  warnings.warn(smsg, UserWarning)\n",
            "/usr/local/lib/python3.10/dist-packages/xgboost/core.py:158: UserWarning: [19:33:46] WARNING: /workspace/src/learner.cc:740: \n",
            "Parameters: { \"predictor\" } are not used.\n",
            "\n",
            "  warnings.warn(smsg, UserWarning)\n",
            "/usr/local/lib/python3.10/dist-packages/xgboost/core.py:158: UserWarning: [19:40:13] WARNING: /workspace/src/common/error_msg.cc:27: The tree method `gpu_hist` is deprecated since 2.0.0. To use GPU training, set the `device` parameter to CUDA instead.\n",
            "\n",
            "    E.g. tree_method = \"hist\", device = \"cuda\"\n",
            "\n",
            "  warnings.warn(smsg, UserWarning)\n",
            "[I 2024-09-16 19:40:15,458] Trial 5 finished with value: 0.7077524974360923 and parameters: {'eta': 0.01369113602636768, 'max_depth': 124, 'n_estimators': 154}. Best is trial 5 with value: 0.7077524974360923.\n"
          ]
        },
        {
          "output_type": "stream",
          "name": "stdout",
          "text": [
            "Trial 5: Accuracy=0.7078, eta=0.01369113602636768, max_depth=124, n_estimators=154\n"
          ]
        },
        {
          "output_type": "stream",
          "name": "stderr",
          "text": [
            "<ipython-input-33-b93668afb479>:9: FutureWarning: suggest_loguniform has been deprecated in v3.0.0. This feature will be removed in v6.0.0. See https://github.com/optuna/optuna/releases/tag/v3.0.0. Use suggest_float(..., log=True) instead.\n",
            "  eta = trial.suggest_loguniform('eta', 0.0001, 0.1)\n",
            "/usr/local/lib/python3.10/dist-packages/xgboost/core.py:158: UserWarning: [19:40:15] WARNING: /workspace/src/common/error_msg.cc:27: The tree method `gpu_hist` is deprecated since 2.0.0. To use GPU training, set the `device` parameter to CUDA instead.\n",
            "\n",
            "    E.g. tree_method = \"hist\", device = \"cuda\"\n",
            "\n",
            "  warnings.warn(smsg, UserWarning)\n",
            "/usr/local/lib/python3.10/dist-packages/xgboost/core.py:158: UserWarning: [19:40:15] WARNING: /workspace/src/learner.cc:740: \n",
            "Parameters: { \"predictor\" } are not used.\n",
            "\n",
            "  warnings.warn(smsg, UserWarning)\n",
            "/usr/local/lib/python3.10/dist-packages/xgboost/core.py:158: UserWarning: [19:48:15] WARNING: /workspace/src/common/error_msg.cc:27: The tree method `gpu_hist` is deprecated since 2.0.0. To use GPU training, set the `device` parameter to CUDA instead.\n",
            "\n",
            "    E.g. tree_method = \"hist\", device = \"cuda\"\n",
            "\n",
            "  warnings.warn(smsg, UserWarning)\n",
            "[I 2024-09-16 19:48:16,758] Trial 6 finished with value: 0.6508596428830409 and parameters: {'eta': 0.0008467591873365394, 'max_depth': 83, 'n_estimators': 185}. Best is trial 5 with value: 0.7077524974360923.\n"
          ]
        },
        {
          "output_type": "stream",
          "name": "stdout",
          "text": [
            "Trial 6: Accuracy=0.6509, eta=0.0008467591873365394, max_depth=83, n_estimators=185\n"
          ]
        },
        {
          "output_type": "stream",
          "name": "stderr",
          "text": [
            "<ipython-input-33-b93668afb479>:9: FutureWarning: suggest_loguniform has been deprecated in v3.0.0. This feature will be removed in v6.0.0. See https://github.com/optuna/optuna/releases/tag/v3.0.0. Use suggest_float(..., log=True) instead.\n",
            "  eta = trial.suggest_loguniform('eta', 0.0001, 0.1)\n",
            "/usr/local/lib/python3.10/dist-packages/xgboost/core.py:158: UserWarning: [19:48:17] WARNING: /workspace/src/common/error_msg.cc:27: The tree method `gpu_hist` is deprecated since 2.0.0. To use GPU training, set the `device` parameter to CUDA instead.\n",
            "\n",
            "    E.g. tree_method = \"hist\", device = \"cuda\"\n",
            "\n",
            "  warnings.warn(smsg, UserWarning)\n",
            "/usr/local/lib/python3.10/dist-packages/xgboost/core.py:158: UserWarning: [19:48:17] WARNING: /workspace/src/learner.cc:740: \n",
            "Parameters: { \"predictor\" } are not used.\n",
            "\n",
            "  warnings.warn(smsg, UserWarning)\n",
            "/usr/local/lib/python3.10/dist-packages/xgboost/core.py:158: UserWarning: [19:52:03] WARNING: /workspace/src/common/error_msg.cc:27: The tree method `gpu_hist` is deprecated since 2.0.0. To use GPU training, set the `device` parameter to CUDA instead.\n",
            "\n",
            "    E.g. tree_method = \"hist\", device = \"cuda\"\n",
            "\n",
            "  warnings.warn(smsg, UserWarning)\n",
            "[I 2024-09-16 19:52:04,741] Trial 7 finished with value: 0.7096137045618567 and parameters: {'eta': 0.02734604914498082, 'max_depth': 36, 'n_estimators': 137}. Best is trial 7 with value: 0.7096137045618567.\n"
          ]
        },
        {
          "output_type": "stream",
          "name": "stdout",
          "text": [
            "Trial 7: Accuracy=0.7096, eta=0.02734604914498082, max_depth=36, n_estimators=137\n"
          ]
        },
        {
          "output_type": "stream",
          "name": "stderr",
          "text": [
            "<ipython-input-33-b93668afb479>:9: FutureWarning: suggest_loguniform has been deprecated in v3.0.0. This feature will be removed in v6.0.0. See https://github.com/optuna/optuna/releases/tag/v3.0.0. Use suggest_float(..., log=True) instead.\n",
            "  eta = trial.suggest_loguniform('eta', 0.0001, 0.1)\n",
            "/usr/local/lib/python3.10/dist-packages/xgboost/core.py:158: UserWarning: [19:52:04] WARNING: /workspace/src/common/error_msg.cc:27: The tree method `gpu_hist` is deprecated since 2.0.0. To use GPU training, set the `device` parameter to CUDA instead.\n",
            "\n",
            "    E.g. tree_method = \"hist\", device = \"cuda\"\n",
            "\n",
            "  warnings.warn(smsg, UserWarning)\n",
            "/usr/local/lib/python3.10/dist-packages/xgboost/core.py:158: UserWarning: [19:52:04] WARNING: /workspace/src/learner.cc:740: \n",
            "Parameters: { \"predictor\" } are not used.\n",
            "\n",
            "  warnings.warn(smsg, UserWarning)\n",
            "/usr/local/lib/python3.10/dist-packages/xgboost/core.py:158: UserWarning: [19:55:31] WARNING: /workspace/src/common/error_msg.cc:27: The tree method `gpu_hist` is deprecated since 2.0.0. To use GPU training, set the `device` parameter to CUDA instead.\n",
            "\n",
            "    E.g. tree_method = \"hist\", device = \"cuda\"\n",
            "\n",
            "  warnings.warn(smsg, UserWarning)\n",
            "[I 2024-09-16 19:55:32,403] Trial 8 finished with value: 0.6285596881183162 and parameters: {'eta': 0.0004346434684300808, 'max_depth': 124, 'n_estimators': 80}. Best is trial 7 with value: 0.7096137045618567.\n"
          ]
        },
        {
          "output_type": "stream",
          "name": "stdout",
          "text": [
            "Trial 8: Accuracy=0.6286, eta=0.0004346434684300808, max_depth=124, n_estimators=80\n"
          ]
        },
        {
          "output_type": "stream",
          "name": "stderr",
          "text": [
            "<ipython-input-33-b93668afb479>:9: FutureWarning: suggest_loguniform has been deprecated in v3.0.0. This feature will be removed in v6.0.0. See https://github.com/optuna/optuna/releases/tag/v3.0.0. Use suggest_float(..., log=True) instead.\n",
            "  eta = trial.suggest_loguniform('eta', 0.0001, 0.1)\n",
            "/usr/local/lib/python3.10/dist-packages/xgboost/core.py:158: UserWarning: [19:55:32] WARNING: /workspace/src/common/error_msg.cc:27: The tree method `gpu_hist` is deprecated since 2.0.0. To use GPU training, set the `device` parameter to CUDA instead.\n",
            "\n",
            "    E.g. tree_method = \"hist\", device = \"cuda\"\n",
            "\n",
            "  warnings.warn(smsg, UserWarning)\n",
            "/usr/local/lib/python3.10/dist-packages/xgboost/core.py:158: UserWarning: [19:55:32] WARNING: /workspace/src/learner.cc:740: \n",
            "Parameters: { \"predictor\" } are not used.\n",
            "\n",
            "  warnings.warn(smsg, UserWarning)\n",
            "/usr/local/lib/python3.10/dist-packages/xgboost/core.py:158: UserWarning: [20:02:14] WARNING: /workspace/src/common/error_msg.cc:27: The tree method `gpu_hist` is deprecated since 2.0.0. To use GPU training, set the `device` parameter to CUDA instead.\n",
            "\n",
            "    E.g. tree_method = \"hist\", device = \"cuda\"\n",
            "\n",
            "  warnings.warn(smsg, UserWarning)\n",
            "[I 2024-09-16 20:02:15,760] Trial 9 finished with value: 0.6830146721133161 and parameters: {'eta': 0.0031064089927815655, 'max_depth': 36, 'n_estimators': 167}. Best is trial 7 with value: 0.7096137045618567.\n"
          ]
        },
        {
          "output_type": "stream",
          "name": "stdout",
          "text": [
            "Trial 9: Accuracy=0.6830, eta=0.0031064089927815655, max_depth=36, n_estimators=167\n"
          ]
        },
        {
          "output_type": "stream",
          "name": "stderr",
          "text": [
            "<ipython-input-33-b93668afb479>:9: FutureWarning: suggest_loguniform has been deprecated in v3.0.0. This feature will be removed in v6.0.0. See https://github.com/optuna/optuna/releases/tag/v3.0.0. Use suggest_float(..., log=True) instead.\n",
            "  eta = trial.suggest_loguniform('eta', 0.0001, 0.1)\n",
            "/usr/local/lib/python3.10/dist-packages/xgboost/core.py:158: UserWarning: [20:02:15] WARNING: /workspace/src/common/error_msg.cc:27: The tree method `gpu_hist` is deprecated since 2.0.0. To use GPU training, set the `device` parameter to CUDA instead.\n",
            "\n",
            "    E.g. tree_method = \"hist\", device = \"cuda\"\n",
            "\n",
            "  warnings.warn(smsg, UserWarning)\n",
            "/usr/local/lib/python3.10/dist-packages/xgboost/core.py:158: UserWarning: [20:02:15] WARNING: /workspace/src/learner.cc:740: \n",
            "Parameters: { \"predictor\" } are not used.\n",
            "\n",
            "  warnings.warn(smsg, UserWarning)\n",
            "/usr/local/lib/python3.10/dist-packages/xgboost/core.py:158: UserWarning: [20:02:16] WARNING: /workspace/src/common/error_msg.cc:27: The tree method `gpu_hist` is deprecated since 2.0.0. To use GPU training, set the `device` parameter to CUDA instead.\n",
            "\n",
            "    E.g. tree_method = \"hist\", device = \"cuda\"\n",
            "\n",
            "  warnings.warn(smsg, UserWarning)\n",
            "[I 2024-09-16 20:02:16,691] Trial 10 finished with value: 0.5217560955396637 and parameters: {'eta': 0.08514732286384259, 'max_depth': 3, 'n_estimators': 109}. Best is trial 7 with value: 0.7096137045618567.\n"
          ]
        },
        {
          "output_type": "stream",
          "name": "stdout",
          "text": [
            "Trial 10: Accuracy=0.5218, eta=0.08514732286384259, max_depth=3, n_estimators=109\n"
          ]
        },
        {
          "output_type": "stream",
          "name": "stderr",
          "text": [
            "<ipython-input-33-b93668afb479>:9: FutureWarning: suggest_loguniform has been deprecated in v3.0.0. This feature will be removed in v6.0.0. See https://github.com/optuna/optuna/releases/tag/v3.0.0. Use suggest_float(..., log=True) instead.\n",
            "  eta = trial.suggest_loguniform('eta', 0.0001, 0.1)\n",
            "/usr/local/lib/python3.10/dist-packages/xgboost/core.py:158: UserWarning: [20:02:16] WARNING: /workspace/src/common/error_msg.cc:27: The tree method `gpu_hist` is deprecated since 2.0.0. To use GPU training, set the `device` parameter to CUDA instead.\n",
            "\n",
            "    E.g. tree_method = \"hist\", device = \"cuda\"\n",
            "\n",
            "  warnings.warn(smsg, UserWarning)\n",
            "/usr/local/lib/python3.10/dist-packages/xgboost/core.py:158: UserWarning: [20:02:16] WARNING: /workspace/src/learner.cc:740: \n",
            "Parameters: { \"predictor\" } are not used.\n",
            "\n",
            "  warnings.warn(smsg, UserWarning)\n",
            "/usr/local/lib/python3.10/dist-packages/xgboost/core.py:158: UserWarning: [20:08:08] WARNING: /workspace/src/common/error_msg.cc:27: The tree method `gpu_hist` is deprecated since 2.0.0. To use GPU training, set the `device` parameter to CUDA instead.\n",
            "\n",
            "    E.g. tree_method = \"hist\", device = \"cuda\"\n",
            "\n",
            "  warnings.warn(smsg, UserWarning)\n",
            "[I 2024-09-16 20:08:10,314] Trial 11 finished with value: 0.7091440864373595 and parameters: {'eta': 0.018759464352924266, 'max_depth': 150, 'n_estimators': 146}. Best is trial 7 with value: 0.7096137045618567.\n"
          ]
        },
        {
          "output_type": "stream",
          "name": "stdout",
          "text": [
            "Trial 11: Accuracy=0.7091, eta=0.018759464352924266, max_depth=150, n_estimators=146\n"
          ]
        },
        {
          "output_type": "stream",
          "name": "stderr",
          "text": [
            "<ipython-input-33-b93668afb479>:9: FutureWarning: suggest_loguniform has been deprecated in v3.0.0. This feature will be removed in v6.0.0. See https://github.com/optuna/optuna/releases/tag/v3.0.0. Use suggest_float(..., log=True) instead.\n",
            "  eta = trial.suggest_loguniform('eta', 0.0001, 0.1)\n",
            "/usr/local/lib/python3.10/dist-packages/xgboost/core.py:158: UserWarning: [20:08:10] WARNING: /workspace/src/common/error_msg.cc:27: The tree method `gpu_hist` is deprecated since 2.0.0. To use GPU training, set the `device` parameter to CUDA instead.\n",
            "\n",
            "    E.g. tree_method = \"hist\", device = \"cuda\"\n",
            "\n",
            "  warnings.warn(smsg, UserWarning)\n",
            "/usr/local/lib/python3.10/dist-packages/xgboost/core.py:158: UserWarning: [20:08:10] WARNING: /workspace/src/learner.cc:740: \n",
            "Parameters: { \"predictor\" } are not used.\n",
            "\n",
            "  warnings.warn(smsg, UserWarning)\n",
            "/usr/local/lib/python3.10/dist-packages/xgboost/core.py:158: UserWarning: [20:13:03] WARNING: /workspace/src/common/error_msg.cc:27: The tree method `gpu_hist` is deprecated since 2.0.0. To use GPU training, set the `device` parameter to CUDA instead.\n",
            "\n",
            "    E.g. tree_method = \"hist\", device = \"cuda\"\n",
            "\n",
            "  warnings.warn(smsg, UserWarning)\n",
            "[I 2024-09-16 20:13:04,210] Trial 12 finished with value: 0.7096447822318601 and parameters: {'eta': 0.027332965630441353, 'max_depth': 61, 'n_estimators': 130}. Best is trial 12 with value: 0.7096447822318601.\n"
          ]
        },
        {
          "output_type": "stream",
          "name": "stdout",
          "text": [
            "Trial 12: Accuracy=0.7096, eta=0.027332965630441353, max_depth=61, n_estimators=130\n"
          ]
        },
        {
          "output_type": "stream",
          "name": "stderr",
          "text": [
            "<ipython-input-33-b93668afb479>:9: FutureWarning: suggest_loguniform has been deprecated in v3.0.0. This feature will be removed in v6.0.0. See https://github.com/optuna/optuna/releases/tag/v3.0.0. Use suggest_float(..., log=True) instead.\n",
            "  eta = trial.suggest_loguniform('eta', 0.0001, 0.1)\n",
            "/usr/local/lib/python3.10/dist-packages/xgboost/core.py:158: UserWarning: [20:13:04] WARNING: /workspace/src/common/error_msg.cc:27: The tree method `gpu_hist` is deprecated since 2.0.0. To use GPU training, set the `device` parameter to CUDA instead.\n",
            "\n",
            "    E.g. tree_method = \"hist\", device = \"cuda\"\n",
            "\n",
            "  warnings.warn(smsg, UserWarning)\n",
            "/usr/local/lib/python3.10/dist-packages/xgboost/core.py:158: UserWarning: [20:13:04] WARNING: /workspace/src/learner.cc:740: \n",
            "Parameters: { \"predictor\" } are not used.\n",
            "\n",
            "  warnings.warn(smsg, UserWarning)\n",
            "/usr/local/lib/python3.10/dist-packages/xgboost/core.py:158: UserWarning: [20:15:39] WARNING: /workspace/src/common/error_msg.cc:27: The tree method `gpu_hist` is deprecated since 2.0.0. To use GPU training, set the `device` parameter to CUDA instead.\n",
            "\n",
            "    E.g. tree_method = \"hist\", device = \"cuda\"\n",
            "\n",
            "  warnings.warn(smsg, UserWarning)\n",
            "[I 2024-09-16 20:15:40,601] Trial 13 finished with value: 0.7105494877364061 and parameters: {'eta': 0.08586159417487237, 'max_depth': 60, 'n_estimators': 117}. Best is trial 13 with value: 0.7105494877364061.\n"
          ]
        },
        {
          "output_type": "stream",
          "name": "stdout",
          "text": [
            "Trial 13: Accuracy=0.7105, eta=0.08586159417487237, max_depth=60, n_estimators=117\n"
          ]
        },
        {
          "output_type": "stream",
          "name": "stderr",
          "text": [
            "<ipython-input-33-b93668afb479>:9: FutureWarning: suggest_loguniform has been deprecated in v3.0.0. This feature will be removed in v6.0.0. See https://github.com/optuna/optuna/releases/tag/v3.0.0. Use suggest_float(..., log=True) instead.\n",
            "  eta = trial.suggest_loguniform('eta', 0.0001, 0.1)\n",
            "/usr/local/lib/python3.10/dist-packages/xgboost/core.py:158: UserWarning: [20:15:40] WARNING: /workspace/src/common/error_msg.cc:27: The tree method `gpu_hist` is deprecated since 2.0.0. To use GPU training, set the `device` parameter to CUDA instead.\n",
            "\n",
            "    E.g. tree_method = \"hist\", device = \"cuda\"\n",
            "\n",
            "  warnings.warn(smsg, UserWarning)\n",
            "/usr/local/lib/python3.10/dist-packages/xgboost/core.py:158: UserWarning: [20:15:40] WARNING: /workspace/src/learner.cc:740: \n",
            "Parameters: { \"predictor\" } are not used.\n",
            "\n",
            "  warnings.warn(smsg, UserWarning)\n",
            "/usr/local/lib/python3.10/dist-packages/xgboost/core.py:158: UserWarning: [20:18:13] WARNING: /workspace/src/common/error_msg.cc:27: The tree method `gpu_hist` is deprecated since 2.0.0. To use GPU training, set the `device` parameter to CUDA instead.\n",
            "\n",
            "    E.g. tree_method = \"hist\", device = \"cuda\"\n",
            "\n",
            "  warnings.warn(smsg, UserWarning)\n",
            "[I 2024-09-16 20:18:14,514] Trial 14 finished with value: 0.7100764165374641 and parameters: {'eta': 0.09322336234131787, 'max_depth': 70, 'n_estimators': 109}. Best is trial 13 with value: 0.7105494877364061.\n"
          ]
        },
        {
          "output_type": "stream",
          "name": "stdout",
          "text": [
            "Trial 14: Accuracy=0.7101, eta=0.09322336234131787, max_depth=70, n_estimators=109\n"
          ]
        },
        {
          "output_type": "stream",
          "name": "stderr",
          "text": [
            "<ipython-input-33-b93668afb479>:9: FutureWarning: suggest_loguniform has been deprecated in v3.0.0. This feature will be removed in v6.0.0. See https://github.com/optuna/optuna/releases/tag/v3.0.0. Use suggest_float(..., log=True) instead.\n",
            "  eta = trial.suggest_loguniform('eta', 0.0001, 0.1)\n",
            "/usr/local/lib/python3.10/dist-packages/xgboost/core.py:158: UserWarning: [20:18:14] WARNING: /workspace/src/common/error_msg.cc:27: The tree method `gpu_hist` is deprecated since 2.0.0. To use GPU training, set the `device` parameter to CUDA instead.\n",
            "\n",
            "    E.g. tree_method = \"hist\", device = \"cuda\"\n",
            "\n",
            "  warnings.warn(smsg, UserWarning)\n",
            "/usr/local/lib/python3.10/dist-packages/xgboost/core.py:158: UserWarning: [20:18:14] WARNING: /workspace/src/learner.cc:740: \n",
            "Parameters: { \"predictor\" } are not used.\n",
            "\n",
            "  warnings.warn(smsg, UserWarning)\n",
            "/usr/local/lib/python3.10/dist-packages/xgboost/core.py:158: UserWarning: [20:20:52] WARNING: /workspace/src/common/error_msg.cc:27: The tree method `gpu_hist` is deprecated since 2.0.0. To use GPU training, set the `device` parameter to CUDA instead.\n",
            "\n",
            "    E.g. tree_method = \"hist\", device = \"cuda\"\n",
            "\n",
            "  warnings.warn(smsg, UserWarning)\n",
            "[I 2024-09-16 20:20:53,519] Trial 15 finished with value: 0.7111192450198034 and parameters: {'eta': 0.08387896876501985, 'max_depth': 66, 'n_estimators': 109}. Best is trial 15 with value: 0.7111192450198034.\n"
          ]
        },
        {
          "output_type": "stream",
          "name": "stdout",
          "text": [
            "Trial 15: Accuracy=0.7111, eta=0.08387896876501985, max_depth=66, n_estimators=109\n"
          ]
        },
        {
          "output_type": "stream",
          "name": "stderr",
          "text": [
            "<ipython-input-33-b93668afb479>:9: FutureWarning: suggest_loguniform has been deprecated in v3.0.0. This feature will be removed in v6.0.0. See https://github.com/optuna/optuna/releases/tag/v3.0.0. Use suggest_float(..., log=True) instead.\n",
            "  eta = trial.suggest_loguniform('eta', 0.0001, 0.1)\n",
            "/usr/local/lib/python3.10/dist-packages/xgboost/core.py:158: UserWarning: [20:20:53] WARNING: /workspace/src/common/error_msg.cc:27: The tree method `gpu_hist` is deprecated since 2.0.0. To use GPU training, set the `device` parameter to CUDA instead.\n",
            "\n",
            "    E.g. tree_method = \"hist\", device = \"cuda\"\n",
            "\n",
            "  warnings.warn(smsg, UserWarning)\n",
            "/usr/local/lib/python3.10/dist-packages/xgboost/core.py:158: UserWarning: [20:20:53] WARNING: /workspace/src/learner.cc:740: \n",
            "Parameters: { \"predictor\" } are not used.\n",
            "\n",
            "  warnings.warn(smsg, UserWarning)\n",
            "/usr/local/lib/python3.10/dist-packages/xgboost/core.py:158: UserWarning: [20:24:12] WARNING: /workspace/src/common/error_msg.cc:27: The tree method `gpu_hist` is deprecated since 2.0.0. To use GPU training, set the `device` parameter to CUDA instead.\n",
            "\n",
            "    E.g. tree_method = \"hist\", device = \"cuda\"\n",
            "\n",
            "  warnings.warn(smsg, UserWarning)\n",
            "[I 2024-09-16 20:24:13,561] Trial 16 finished with value: 0.7105702061830751 and parameters: {'eta': 0.04819935412119489, 'max_depth': 57, 'n_estimators': 102}. Best is trial 15 with value: 0.7111192450198034.\n"
          ]
        },
        {
          "output_type": "stream",
          "name": "stdout",
          "text": [
            "Trial 16: Accuracy=0.7106, eta=0.04819935412119489, max_depth=57, n_estimators=102\n"
          ]
        },
        {
          "output_type": "stream",
          "name": "stderr",
          "text": [
            "<ipython-input-33-b93668afb479>:9: FutureWarning: suggest_loguniform has been deprecated in v3.0.0. This feature will be removed in v6.0.0. See https://github.com/optuna/optuna/releases/tag/v3.0.0. Use suggest_float(..., log=True) instead.\n",
            "  eta = trial.suggest_loguniform('eta', 0.0001, 0.1)\n",
            "/usr/local/lib/python3.10/dist-packages/xgboost/core.py:158: UserWarning: [20:24:13] WARNING: /workspace/src/common/error_msg.cc:27: The tree method `gpu_hist` is deprecated since 2.0.0. To use GPU training, set the `device` parameter to CUDA instead.\n",
            "\n",
            "    E.g. tree_method = \"hist\", device = \"cuda\"\n",
            "\n",
            "  warnings.warn(smsg, UserWarning)\n",
            "/usr/local/lib/python3.10/dist-packages/xgboost/core.py:158: UserWarning: [20:24:13] WARNING: /workspace/src/learner.cc:740: \n",
            "Parameters: { \"predictor\" } are not used.\n",
            "\n",
            "  warnings.warn(smsg, UserWarning)\n",
            "/usr/local/lib/python3.10/dist-packages/xgboost/core.py:158: UserWarning: [20:26:29] WARNING: /workspace/src/common/error_msg.cc:27: The tree method `gpu_hist` is deprecated since 2.0.0. To use GPU training, set the `device` parameter to CUDA instead.\n",
            "\n",
            "    E.g. tree_method = \"hist\", device = \"cuda\"\n",
            "\n",
            "  warnings.warn(smsg, UserWarning)\n",
            "[I 2024-09-16 20:26:30,747] Trial 17 finished with value: 0.620075484207364 and parameters: {'eta': 0.0002447706960966429, 'max_depth': 91, 'n_estimators': 53}. Best is trial 15 with value: 0.7111192450198034.\n"
          ]
        },
        {
          "output_type": "stream",
          "name": "stdout",
          "text": [
            "Trial 17: Accuracy=0.6201, eta=0.0002447706960966429, max_depth=91, n_estimators=53\n"
          ]
        },
        {
          "output_type": "stream",
          "name": "stderr",
          "text": [
            "<ipython-input-33-b93668afb479>:9: FutureWarning: suggest_loguniform has been deprecated in v3.0.0. This feature will be removed in v6.0.0. See https://github.com/optuna/optuna/releases/tag/v3.0.0. Use suggest_float(..., log=True) instead.\n",
            "  eta = trial.suggest_loguniform('eta', 0.0001, 0.1)\n",
            "/usr/local/lib/python3.10/dist-packages/xgboost/core.py:158: UserWarning: [20:26:30] WARNING: /workspace/src/common/error_msg.cc:27: The tree method `gpu_hist` is deprecated since 2.0.0. To use GPU training, set the `device` parameter to CUDA instead.\n",
            "\n",
            "    E.g. tree_method = \"hist\", device = \"cuda\"\n",
            "\n",
            "  warnings.warn(smsg, UserWarning)\n",
            "/usr/local/lib/python3.10/dist-packages/xgboost/core.py:158: UserWarning: [20:26:30] WARNING: /workspace/src/learner.cc:740: \n",
            "Parameters: { \"predictor\" } are not used.\n",
            "\n",
            "  warnings.warn(smsg, UserWarning)\n",
            "/usr/local/lib/python3.10/dist-packages/xgboost/core.py:158: UserWarning: [20:29:40] WARNING: /workspace/src/common/error_msg.cc:27: The tree method `gpu_hist` is deprecated since 2.0.0. To use GPU training, set the `device` parameter to CUDA instead.\n",
            "\n",
            "    E.g. tree_method = \"hist\", device = \"cuda\"\n",
            "\n",
            "  warnings.warn(smsg, UserWarning)\n",
            "[I 2024-09-16 20:29:41,881] Trial 18 finished with value: 0.7101420249519159 and parameters: {'eta': 0.04726663419818292, 'max_depth': 53, 'n_estimators': 97}. Best is trial 15 with value: 0.7111192450198034.\n"
          ]
        },
        {
          "output_type": "stream",
          "name": "stdout",
          "text": [
            "Trial 18: Accuracy=0.7101, eta=0.04726663419818292, max_depth=53, n_estimators=97\n"
          ]
        },
        {
          "output_type": "stream",
          "name": "stderr",
          "text": [
            "<ipython-input-33-b93668afb479>:9: FutureWarning: suggest_loguniform has been deprecated in v3.0.0. This feature will be removed in v6.0.0. See https://github.com/optuna/optuna/releases/tag/v3.0.0. Use suggest_float(..., log=True) instead.\n",
            "  eta = trial.suggest_loguniform('eta', 0.0001, 0.1)\n",
            "/usr/local/lib/python3.10/dist-packages/xgboost/core.py:158: UserWarning: [20:29:42] WARNING: /workspace/src/common/error_msg.cc:27: The tree method `gpu_hist` is deprecated since 2.0.0. To use GPU training, set the `device` parameter to CUDA instead.\n",
            "\n",
            "    E.g. tree_method = \"hist\", device = \"cuda\"\n",
            "\n",
            "  warnings.warn(smsg, UserWarning)\n",
            "/usr/local/lib/python3.10/dist-packages/xgboost/core.py:158: UserWarning: [20:29:42] WARNING: /workspace/src/learner.cc:740: \n",
            "Parameters: { \"predictor\" } are not used.\n",
            "\n",
            "  warnings.warn(smsg, UserWarning)\n",
            "/usr/local/lib/python3.10/dist-packages/xgboost/core.py:158: UserWarning: [20:34:03] WARNING: /workspace/src/common/error_msg.cc:27: The tree method `gpu_hist` is deprecated since 2.0.0. To use GPU training, set the `device` parameter to CUDA instead.\n",
            "\n",
            "    E.g. tree_method = \"hist\", device = \"cuda\"\n",
            "\n",
            "  warnings.warn(smsg, UserWarning)\n",
            "[I 2024-09-16 20:34:04,538] Trial 19 finished with value: 0.6980286397994454 and parameters: {'eta': 0.010191378560412401, 'max_depth': 102, 'n_estimators': 101}. Best is trial 15 with value: 0.7111192450198034.\n"
          ]
        },
        {
          "output_type": "stream",
          "name": "stdout",
          "text": [
            "Trial 19: Accuracy=0.6980, eta=0.010191378560412401, max_depth=102, n_estimators=101\n",
            "Best trial:\n",
            "  Accuracy: 0.7111192450198034\n",
            "  Best hyperparameters: {'eta': 0.08387896876501985, 'max_depth': 66, 'n_estimators': 109}\n"
          ]
        }
      ]
    },
    {
      "cell_type": "markdown",
      "source": [
        "### Making Stuff+ Model"
      ],
      "metadata": {
        "id": "6JFg-wRvRDGi"
      }
    },
    {
      "cell_type": "code",
      "execution_count": null,
      "metadata": {
        "id": "6ouNwt29qfL2"
      },
      "outputs": [],
      "source": [
        "from sklearn import metrics\n",
        "import seaborn as sns\n",
        "import matplotlib.pyplot as plt\n",
        "from matplotlib.colors import ListedColormap\n",
        "from sklearn.model_selection import train_test_split\n",
        "from sklearn.preprocessing import StandardScaler\n",
        "from sklearn.pipeline import make_pipeline\n",
        "from sklearn.datasets import make_moons, make_circles, make_classification\n",
        "from sklearn.ensemble import RandomForestClassifier\n",
        "from numpy import loadtxt\n",
        "from xgboost import XGBClassifier\n",
        "# from cuml.ensemble import RandomForestClassifier as cuRF\n",
        "# !pip install -U xgboost\n",
        "\n",
        "names = [\n",
        "    \"Random Forest\",\n",
        "    \"XGBoost\"\n",
        "]\n",
        "\n",
        "classifiers = [\n",
        "    # RandomForestClassifier(max_depth=None, n_estimators=100),\n",
        "    XGBClassifier(device='gpu', eta=0.07, max_depth=66, n_estimators=110, eval_metric='logloss'),\n",
        "    # XGBClassifier(device='gpu', eta=0.08, max_depth=66, n_estimators=110, eval_metric='logloss')\n",
        "]"
      ]
    },
    {
      "cell_type": "code",
      "execution_count": null,
      "metadata": {
        "id": "qxLW79_FwZhX"
      },
      "outputs": [],
      "source": [
        "accuracies = []\n",
        "for opt in classifiers:\n",
        "  clf = make_pipeline(StandardScaler(), opt)\n",
        "  clf.fit(x_train, y_train)\n",
        "\n",
        "  y_pred = clf.predict((x_test))\n",
        "  accuracies.append(metrics.accuracy_score(y_test, y_pred))"
      ]
    },
    {
      "cell_type": "code",
      "execution_count": null,
      "metadata": {
        "colab": {
          "base_uri": "https://localhost:8080/"
        },
        "id": "oTJaGMsVpKWB",
        "outputId": "332b88af-6065-4d7e-9fcb-d0df47c25fd5"
      },
      "outputs": [
        {
          "output_type": "stream",
          "name": "stdout",
          "text": [
            "              precision    recall  f1-score   support\n",
            "\n",
            "           0       0.70      0.74      0.72    144984\n",
            "           1       0.72      0.69      0.70    144613\n",
            "\n",
            "    accuracy                           0.71    289597\n",
            "   macro avg       0.71      0.71      0.71    289597\n",
            "weighted avg       0.71      0.71      0.71    289597\n",
            "\n"
          ]
        }
      ],
      "source": [
        "from sklearn.metrics import classification_report\n",
        "target_names = ['not ideal, yes ideal']\n",
        "print(classification_report(y_test, y_pred))"
      ]
    },
    {
      "cell_type": "code",
      "execution_count": null,
      "metadata": {
        "colab": {
          "base_uri": "https://localhost:8080/"
        },
        "id": "FESte-bGrU0J",
        "outputId": "3aafe88f-d5c7-468c-b927-59cfe6d49086"
      },
      "outputs": [
        {
          "output_type": "stream",
          "name": "stdout",
          "text": [
            "[0.7119825136310114, 0.7104320832052818]\n"
          ]
        }
      ],
      "source": [
        "print(accuracies)"
      ]
    },
    {
      "cell_type": "code",
      "source": [
        "print(accuracies)"
      ],
      "metadata": {
        "colab": {
          "base_uri": "https://localhost:8080/"
        },
        "id": "-dgiPv_gBUTa",
        "outputId": "c3dfb8d1-6c0a-4128-f67f-860c6ae0b035"
      },
      "execution_count": null,
      "outputs": [
        {
          "output_type": "stream",
          "name": "stdout",
          "text": [
            "[0.7119825136310114]\n"
          ]
        }
      ]
    },
    {
      "cell_type": "markdown",
      "source": [
        "### Export Stuff+ Model"
      ],
      "metadata": {
        "id": "EGXHxBHURG63"
      }
    },
    {
      "cell_type": "code",
      "source": [
        "import joblib\n",
        "from joblib import dump\n",
        "\n",
        "import os\n",
        "os.chdir('/content/drive/Shareddrives/USC Baseball/ML Stuff/SabermetricModels/Stuff+')\n",
        "\n",
        "# export the trained model to disk\n",
        "joblib.dump(clf, 'GeneralStuffModel.joblib')"
      ],
      "metadata": {
        "id": "rO3sCWsdRK75",
        "colab": {
          "base_uri": "https://localhost:8080/"
        },
        "outputId": "37fad756-6176-4c87-9701-627398bd3188"
      },
      "execution_count": null,
      "outputs": [
        {
          "output_type": "execute_result",
          "data": {
            "text/plain": [
              "['GeneralStuffModel.joblib']"
            ]
          },
          "metadata": {},
          "execution_count": 56
        }
      ]
    }
  ]
}